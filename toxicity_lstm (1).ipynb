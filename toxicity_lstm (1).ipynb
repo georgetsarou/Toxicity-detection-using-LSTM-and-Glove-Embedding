{
  "nbformat": 4,
  "nbformat_minor": 0,
  "metadata": {
    "colab": {
      "provenance": [],
      "gpuType": "T4"
    },
    "kernelspec": {
      "name": "python3",
      "display_name": "Python 3"
    },
    "language_info": {
      "name": "python"
    },
    "accelerator": "GPU"
  },
  "cells": [
    {
      "cell_type": "code",
      "source": [
        "from google.colab import files\n",
        "\n",
        "\n",
        "uploaded = files.upload()\n"
      ],
      "metadata": {
        "colab": {
          "base_uri": "https://localhost:8080/",
          "height": 145
        },
        "id": "KQuVcTd5bL14",
        "outputId": "7e0c8e42-5b29-4fac-a576-eb19cb49489b"
      },
      "execution_count": null,
      "outputs": [
        {
          "output_type": "display_data",
          "data": {
            "text/plain": [
              "<IPython.core.display.HTML object>"
            ],
            "text/html": [
              "\n",
              "     <input type=\"file\" id=\"files-89ce4632-5bb9-45fc-ad9b-cc5a4e34817d\" name=\"files[]\" multiple disabled\n",
              "        style=\"border:none\" />\n",
              "     <output id=\"result-89ce4632-5bb9-45fc-ad9b-cc5a4e34817d\">\n",
              "      Upload widget is only available when the cell has been executed in the\n",
              "      current browser session. Please rerun this cell to enable.\n",
              "      </output>\n",
              "      <script>// Copyright 2017 Google LLC\n",
              "//\n",
              "// Licensed under the Apache License, Version 2.0 (the \"License\");\n",
              "// you may not use this file except in compliance with the License.\n",
              "// You may obtain a copy of the License at\n",
              "//\n",
              "//      http://www.apache.org/licenses/LICENSE-2.0\n",
              "//\n",
              "// Unless required by applicable law or agreed to in writing, software\n",
              "// distributed under the License is distributed on an \"AS IS\" BASIS,\n",
              "// WITHOUT WARRANTIES OR CONDITIONS OF ANY KIND, either express or implied.\n",
              "// See the License for the specific language governing permissions and\n",
              "// limitations under the License.\n",
              "\n",
              "/**\n",
              " * @fileoverview Helpers for google.colab Python module.\n",
              " */\n",
              "(function(scope) {\n",
              "function span(text, styleAttributes = {}) {\n",
              "  const element = document.createElement('span');\n",
              "  element.textContent = text;\n",
              "  for (const key of Object.keys(styleAttributes)) {\n",
              "    element.style[key] = styleAttributes[key];\n",
              "  }\n",
              "  return element;\n",
              "}\n",
              "\n",
              "// Max number of bytes which will be uploaded at a time.\n",
              "const MAX_PAYLOAD_SIZE = 100 * 1024;\n",
              "\n",
              "function _uploadFiles(inputId, outputId) {\n",
              "  const steps = uploadFilesStep(inputId, outputId);\n",
              "  const outputElement = document.getElementById(outputId);\n",
              "  // Cache steps on the outputElement to make it available for the next call\n",
              "  // to uploadFilesContinue from Python.\n",
              "  outputElement.steps = steps;\n",
              "\n",
              "  return _uploadFilesContinue(outputId);\n",
              "}\n",
              "\n",
              "// This is roughly an async generator (not supported in the browser yet),\n",
              "// where there are multiple asynchronous steps and the Python side is going\n",
              "// to poll for completion of each step.\n",
              "// This uses a Promise to block the python side on completion of each step,\n",
              "// then passes the result of the previous step as the input to the next step.\n",
              "function _uploadFilesContinue(outputId) {\n",
              "  const outputElement = document.getElementById(outputId);\n",
              "  const steps = outputElement.steps;\n",
              "\n",
              "  const next = steps.next(outputElement.lastPromiseValue);\n",
              "  return Promise.resolve(next.value.promise).then((value) => {\n",
              "    // Cache the last promise value to make it available to the next\n",
              "    // step of the generator.\n",
              "    outputElement.lastPromiseValue = value;\n",
              "    return next.value.response;\n",
              "  });\n",
              "}\n",
              "\n",
              "/**\n",
              " * Generator function which is called between each async step of the upload\n",
              " * process.\n",
              " * @param {string} inputId Element ID of the input file picker element.\n",
              " * @param {string} outputId Element ID of the output display.\n",
              " * @return {!Iterable<!Object>} Iterable of next steps.\n",
              " */\n",
              "function* uploadFilesStep(inputId, outputId) {\n",
              "  const inputElement = document.getElementById(inputId);\n",
              "  inputElement.disabled = false;\n",
              "\n",
              "  const outputElement = document.getElementById(outputId);\n",
              "  outputElement.innerHTML = '';\n",
              "\n",
              "  const pickedPromise = new Promise((resolve) => {\n",
              "    inputElement.addEventListener('change', (e) => {\n",
              "      resolve(e.target.files);\n",
              "    });\n",
              "  });\n",
              "\n",
              "  const cancel = document.createElement('button');\n",
              "  inputElement.parentElement.appendChild(cancel);\n",
              "  cancel.textContent = 'Cancel upload';\n",
              "  const cancelPromise = new Promise((resolve) => {\n",
              "    cancel.onclick = () => {\n",
              "      resolve(null);\n",
              "    };\n",
              "  });\n",
              "\n",
              "  // Wait for the user to pick the files.\n",
              "  const files = yield {\n",
              "    promise: Promise.race([pickedPromise, cancelPromise]),\n",
              "    response: {\n",
              "      action: 'starting',\n",
              "    }\n",
              "  };\n",
              "\n",
              "  cancel.remove();\n",
              "\n",
              "  // Disable the input element since further picks are not allowed.\n",
              "  inputElement.disabled = true;\n",
              "\n",
              "  if (!files) {\n",
              "    return {\n",
              "      response: {\n",
              "        action: 'complete',\n",
              "      }\n",
              "    };\n",
              "  }\n",
              "\n",
              "  for (const file of files) {\n",
              "    const li = document.createElement('li');\n",
              "    li.append(span(file.name, {fontWeight: 'bold'}));\n",
              "    li.append(span(\n",
              "        `(${file.type || 'n/a'}) - ${file.size} bytes, ` +\n",
              "        `last modified: ${\n",
              "            file.lastModifiedDate ? file.lastModifiedDate.toLocaleDateString() :\n",
              "                                    'n/a'} - `));\n",
              "    const percent = span('0% done');\n",
              "    li.appendChild(percent);\n",
              "\n",
              "    outputElement.appendChild(li);\n",
              "\n",
              "    const fileDataPromise = new Promise((resolve) => {\n",
              "      const reader = new FileReader();\n",
              "      reader.onload = (e) => {\n",
              "        resolve(e.target.result);\n",
              "      };\n",
              "      reader.readAsArrayBuffer(file);\n",
              "    });\n",
              "    // Wait for the data to be ready.\n",
              "    let fileData = yield {\n",
              "      promise: fileDataPromise,\n",
              "      response: {\n",
              "        action: 'continue',\n",
              "      }\n",
              "    };\n",
              "\n",
              "    // Use a chunked sending to avoid message size limits. See b/62115660.\n",
              "    let position = 0;\n",
              "    do {\n",
              "      const length = Math.min(fileData.byteLength - position, MAX_PAYLOAD_SIZE);\n",
              "      const chunk = new Uint8Array(fileData, position, length);\n",
              "      position += length;\n",
              "\n",
              "      const base64 = btoa(String.fromCharCode.apply(null, chunk));\n",
              "      yield {\n",
              "        response: {\n",
              "          action: 'append',\n",
              "          file: file.name,\n",
              "          data: base64,\n",
              "        },\n",
              "      };\n",
              "\n",
              "      let percentDone = fileData.byteLength === 0 ?\n",
              "          100 :\n",
              "          Math.round((position / fileData.byteLength) * 100);\n",
              "      percent.textContent = `${percentDone}% done`;\n",
              "\n",
              "    } while (position < fileData.byteLength);\n",
              "  }\n",
              "\n",
              "  // All done.\n",
              "  yield {\n",
              "    response: {\n",
              "      action: 'complete',\n",
              "    }\n",
              "  };\n",
              "}\n",
              "\n",
              "scope.google = scope.google || {};\n",
              "scope.google.colab = scope.google.colab || {};\n",
              "scope.google.colab._files = {\n",
              "  _uploadFiles,\n",
              "  _uploadFilesContinue,\n",
              "};\n",
              "})(self);\n",
              "</script> "
            ]
          },
          "metadata": {}
        },
        {
          "output_type": "stream",
          "name": "stdout",
          "text": [
            "Saving valid.csv to valid.csv\n",
            "Saving train.csv to train.csv\n",
            "Saving test.csv to test.csv\n"
          ]
        }
      ]
    },
    {
      "cell_type": "code",
      "source": [
        "# Import necessary libraries\n",
        "import pandas as pd\n",
        "import numpy as np\n",
        "import os\n",
        "import tensorflow as tf\n",
        "import matplotlib.pyplot as plt\n",
        "import seaborn as sns\n",
        "import nltk\n",
        "import re\n",
        "from collections import Counter\n",
        "nltk.download('stopwords')\n",
        "from nltk.corpus import stopwords\n",
        "nltk.download('punkt')\n",
        "nltk.download('wordnet')\n",
        "nltk.download('omw-1.4')\n",
        "from nltk.tokenize import word_tokenize\n",
        "from nltk.stem import WordNetLemmatizer\n"
      ],
      "metadata": {
        "colab": {
          "base_uri": "https://localhost:8080/"
        },
        "id": "APguxPKzbL3D",
        "outputId": "fcee3dc5-5e9d-455e-a8a6-aaeb35a01d64"
      },
      "execution_count": null,
      "outputs": [
        {
          "output_type": "stream",
          "name": "stderr",
          "text": [
            "[nltk_data] Downloading package stopwords to /root/nltk_data...\n",
            "[nltk_data]   Unzipping corpora/stopwords.zip.\n",
            "[nltk_data] Downloading package punkt to /root/nltk_data...\n",
            "[nltk_data]   Unzipping tokenizers/punkt.zip.\n",
            "[nltk_data] Downloading package wordnet to /root/nltk_data...\n",
            "[nltk_data] Downloading package omw-1.4 to /root/nltk_data...\n"
          ]
        }
      ]
    },
    {
      "cell_type": "code",
      "source": [
        "# Import Train set\n",
        "train_df = pd.read_csv(\"train.csv\", encoding='latin-1')\n",
        "train_df.head()"
      ],
      "metadata": {
        "colab": {
          "base_uri": "https://localhost:8080/",
          "height": 206
        },
        "id": "Lsj0yNnLP73M",
        "outputId": "60758fe7-b04b-47d0-987d-edcec304a891"
      },
      "execution_count": null,
      "outputs": [
        {
          "output_type": "execute_result",
          "data": {
            "text/plain": [
              "     Dataset        FileName  \\\n",
              "0  CMU-MOSEI   jqutn5ou8_0_9   \n",
              "1  CMU-MOSEI         72017_2   \n",
              "2  CMU-MOSEI        248400_4   \n",
              "3  CMU-MOSEI   zv0Jl4TIQDc_5   \n",
              "4  CMU-MOSEI  jjbOD6u7V34_16   \n",
              "\n",
              "                                                text  label2a Starting  \\\n",
              "0  We have ETF updates now, we have intraday upda...        0   75.131   \n",
              "1   And it's basically about , it's about Dracula...        0    3.653   \n",
              "2   Nevertheless, the Last Crusade returns to the...        0    13.74   \n",
              "3  This is another exercise where we're going to ...        0   29.764   \n",
              "4  They're going to kill us as soon as you leave....        0   77.755   \n",
              "\n",
              "    Ending  \n",
              "0   81.618  \n",
              "1   12.056  \n",
              "2   23.271  \n",
              "3   35.633  \n",
              "4  112.508  "
            ],
            "text/html": [
              "\n",
              "  <div id=\"df-68dc23f4-ae00-4f04-bf27-15701d1af470\" class=\"colab-df-container\">\n",
              "    <div>\n",
              "<style scoped>\n",
              "    .dataframe tbody tr th:only-of-type {\n",
              "        vertical-align: middle;\n",
              "    }\n",
              "\n",
              "    .dataframe tbody tr th {\n",
              "        vertical-align: top;\n",
              "    }\n",
              "\n",
              "    .dataframe thead th {\n",
              "        text-align: right;\n",
              "    }\n",
              "</style>\n",
              "<table border=\"1\" class=\"dataframe\">\n",
              "  <thead>\n",
              "    <tr style=\"text-align: right;\">\n",
              "      <th></th>\n",
              "      <th>Dataset</th>\n",
              "      <th>FileName</th>\n",
              "      <th>text</th>\n",
              "      <th>label2a</th>\n",
              "      <th>Starting</th>\n",
              "      <th>Ending</th>\n",
              "    </tr>\n",
              "  </thead>\n",
              "  <tbody>\n",
              "    <tr>\n",
              "      <th>0</th>\n",
              "      <td>CMU-MOSEI</td>\n",
              "      <td>jqutn5ou8_0_9</td>\n",
              "      <td>We have ETF updates now, we have intraday upda...</td>\n",
              "      <td>0</td>\n",
              "      <td>75.131</td>\n",
              "      <td>81.618</td>\n",
              "    </tr>\n",
              "    <tr>\n",
              "      <th>1</th>\n",
              "      <td>CMU-MOSEI</td>\n",
              "      <td>72017_2</td>\n",
              "      <td>And it's basically about , it's about Dracula...</td>\n",
              "      <td>0</td>\n",
              "      <td>3.653</td>\n",
              "      <td>12.056</td>\n",
              "    </tr>\n",
              "    <tr>\n",
              "      <th>2</th>\n",
              "      <td>CMU-MOSEI</td>\n",
              "      <td>248400_4</td>\n",
              "      <td>Nevertheless, the Last Crusade returns to the...</td>\n",
              "      <td>0</td>\n",
              "      <td>13.74</td>\n",
              "      <td>23.271</td>\n",
              "    </tr>\n",
              "    <tr>\n",
              "      <th>3</th>\n",
              "      <td>CMU-MOSEI</td>\n",
              "      <td>zv0Jl4TIQDc_5</td>\n",
              "      <td>This is another exercise where we're going to ...</td>\n",
              "      <td>0</td>\n",
              "      <td>29.764</td>\n",
              "      <td>35.633</td>\n",
              "    </tr>\n",
              "    <tr>\n",
              "      <th>4</th>\n",
              "      <td>CMU-MOSEI</td>\n",
              "      <td>jjbOD6u7V34_16</td>\n",
              "      <td>They're going to kill us as soon as you leave....</td>\n",
              "      <td>0</td>\n",
              "      <td>77.755</td>\n",
              "      <td>112.508</td>\n",
              "    </tr>\n",
              "  </tbody>\n",
              "</table>\n",
              "</div>\n",
              "    <div class=\"colab-df-buttons\">\n",
              "\n",
              "  <div class=\"colab-df-container\">\n",
              "    <button class=\"colab-df-convert\" onclick=\"convertToInteractive('df-68dc23f4-ae00-4f04-bf27-15701d1af470')\"\n",
              "            title=\"Convert this dataframe to an interactive table.\"\n",
              "            style=\"display:none;\">\n",
              "\n",
              "  <svg xmlns=\"http://www.w3.org/2000/svg\" height=\"24px\" viewBox=\"0 -960 960 960\">\n",
              "    <path d=\"M120-120v-720h720v720H120Zm60-500h600v-160H180v160Zm220 220h160v-160H400v160Zm0 220h160v-160H400v160ZM180-400h160v-160H180v160Zm440 0h160v-160H620v160ZM180-180h160v-160H180v160Zm440 0h160v-160H620v160Z\"/>\n",
              "  </svg>\n",
              "    </button>\n",
              "\n",
              "  <style>\n",
              "    .colab-df-container {\n",
              "      display:flex;\n",
              "      gap: 12px;\n",
              "    }\n",
              "\n",
              "    .colab-df-convert {\n",
              "      background-color: #E8F0FE;\n",
              "      border: none;\n",
              "      border-radius: 50%;\n",
              "      cursor: pointer;\n",
              "      display: none;\n",
              "      fill: #1967D2;\n",
              "      height: 32px;\n",
              "      padding: 0 0 0 0;\n",
              "      width: 32px;\n",
              "    }\n",
              "\n",
              "    .colab-df-convert:hover {\n",
              "      background-color: #E2EBFA;\n",
              "      box-shadow: 0px 1px 2px rgba(60, 64, 67, 0.3), 0px 1px 3px 1px rgba(60, 64, 67, 0.15);\n",
              "      fill: #174EA6;\n",
              "    }\n",
              "\n",
              "    .colab-df-buttons div {\n",
              "      margin-bottom: 4px;\n",
              "    }\n",
              "\n",
              "    [theme=dark] .colab-df-convert {\n",
              "      background-color: #3B4455;\n",
              "      fill: #D2E3FC;\n",
              "    }\n",
              "\n",
              "    [theme=dark] .colab-df-convert:hover {\n",
              "      background-color: #434B5C;\n",
              "      box-shadow: 0px 1px 3px 1px rgba(0, 0, 0, 0.15);\n",
              "      filter: drop-shadow(0px 1px 2px rgba(0, 0, 0, 0.3));\n",
              "      fill: #FFFFFF;\n",
              "    }\n",
              "  </style>\n",
              "\n",
              "    <script>\n",
              "      const buttonEl =\n",
              "        document.querySelector('#df-68dc23f4-ae00-4f04-bf27-15701d1af470 button.colab-df-convert');\n",
              "      buttonEl.style.display =\n",
              "        google.colab.kernel.accessAllowed ? 'block' : 'none';\n",
              "\n",
              "      async function convertToInteractive(key) {\n",
              "        const element = document.querySelector('#df-68dc23f4-ae00-4f04-bf27-15701d1af470');\n",
              "        const dataTable =\n",
              "          await google.colab.kernel.invokeFunction('convertToInteractive',\n",
              "                                                    [key], {});\n",
              "        if (!dataTable) return;\n",
              "\n",
              "        const docLinkHtml = 'Like what you see? Visit the ' +\n",
              "          '<a target=\"_blank\" href=https://colab.research.google.com/notebooks/data_table.ipynb>data table notebook</a>'\n",
              "          + ' to learn more about interactive tables.';\n",
              "        element.innerHTML = '';\n",
              "        dataTable['output_type'] = 'display_data';\n",
              "        await google.colab.output.renderOutput(dataTable, element);\n",
              "        const docLink = document.createElement('div');\n",
              "        docLink.innerHTML = docLinkHtml;\n",
              "        element.appendChild(docLink);\n",
              "      }\n",
              "    </script>\n",
              "  </div>\n",
              "\n",
              "\n",
              "<div id=\"df-2224f0de-a8c3-4320-8b74-ed9e08248106\">\n",
              "  <button class=\"colab-df-quickchart\" onclick=\"quickchart('df-2224f0de-a8c3-4320-8b74-ed9e08248106')\"\n",
              "            title=\"Suggest charts\"\n",
              "            style=\"display:none;\">\n",
              "\n",
              "<svg xmlns=\"http://www.w3.org/2000/svg\" height=\"24px\"viewBox=\"0 0 24 24\"\n",
              "     width=\"24px\">\n",
              "    <g>\n",
              "        <path d=\"M19 3H5c-1.1 0-2 .9-2 2v14c0 1.1.9 2 2 2h14c1.1 0 2-.9 2-2V5c0-1.1-.9-2-2-2zM9 17H7v-7h2v7zm4 0h-2V7h2v10zm4 0h-2v-4h2v4z\"/>\n",
              "    </g>\n",
              "</svg>\n",
              "  </button>\n",
              "\n",
              "<style>\n",
              "  .colab-df-quickchart {\n",
              "      --bg-color: #E8F0FE;\n",
              "      --fill-color: #1967D2;\n",
              "      --hover-bg-color: #E2EBFA;\n",
              "      --hover-fill-color: #174EA6;\n",
              "      --disabled-fill-color: #AAA;\n",
              "      --disabled-bg-color: #DDD;\n",
              "  }\n",
              "\n",
              "  [theme=dark] .colab-df-quickchart {\n",
              "      --bg-color: #3B4455;\n",
              "      --fill-color: #D2E3FC;\n",
              "      --hover-bg-color: #434B5C;\n",
              "      --hover-fill-color: #FFFFFF;\n",
              "      --disabled-bg-color: #3B4455;\n",
              "      --disabled-fill-color: #666;\n",
              "  }\n",
              "\n",
              "  .colab-df-quickchart {\n",
              "    background-color: var(--bg-color);\n",
              "    border: none;\n",
              "    border-radius: 50%;\n",
              "    cursor: pointer;\n",
              "    display: none;\n",
              "    fill: var(--fill-color);\n",
              "    height: 32px;\n",
              "    padding: 0;\n",
              "    width: 32px;\n",
              "  }\n",
              "\n",
              "  .colab-df-quickchart:hover {\n",
              "    background-color: var(--hover-bg-color);\n",
              "    box-shadow: 0 1px 2px rgba(60, 64, 67, 0.3), 0 1px 3px 1px rgba(60, 64, 67, 0.15);\n",
              "    fill: var(--button-hover-fill-color);\n",
              "  }\n",
              "\n",
              "  .colab-df-quickchart-complete:disabled,\n",
              "  .colab-df-quickchart-complete:disabled:hover {\n",
              "    background-color: var(--disabled-bg-color);\n",
              "    fill: var(--disabled-fill-color);\n",
              "    box-shadow: none;\n",
              "  }\n",
              "\n",
              "  .colab-df-spinner {\n",
              "    border: 2px solid var(--fill-color);\n",
              "    border-color: transparent;\n",
              "    border-bottom-color: var(--fill-color);\n",
              "    animation:\n",
              "      spin 1s steps(1) infinite;\n",
              "  }\n",
              "\n",
              "  @keyframes spin {\n",
              "    0% {\n",
              "      border-color: transparent;\n",
              "      border-bottom-color: var(--fill-color);\n",
              "      border-left-color: var(--fill-color);\n",
              "    }\n",
              "    20% {\n",
              "      border-color: transparent;\n",
              "      border-left-color: var(--fill-color);\n",
              "      border-top-color: var(--fill-color);\n",
              "    }\n",
              "    30% {\n",
              "      border-color: transparent;\n",
              "      border-left-color: var(--fill-color);\n",
              "      border-top-color: var(--fill-color);\n",
              "      border-right-color: var(--fill-color);\n",
              "    }\n",
              "    40% {\n",
              "      border-color: transparent;\n",
              "      border-right-color: var(--fill-color);\n",
              "      border-top-color: var(--fill-color);\n",
              "    }\n",
              "    60% {\n",
              "      border-color: transparent;\n",
              "      border-right-color: var(--fill-color);\n",
              "    }\n",
              "    80% {\n",
              "      border-color: transparent;\n",
              "      border-right-color: var(--fill-color);\n",
              "      border-bottom-color: var(--fill-color);\n",
              "    }\n",
              "    90% {\n",
              "      border-color: transparent;\n",
              "      border-bottom-color: var(--fill-color);\n",
              "    }\n",
              "  }\n",
              "</style>\n",
              "\n",
              "  <script>\n",
              "    async function quickchart(key) {\n",
              "      const quickchartButtonEl =\n",
              "        document.querySelector('#' + key + ' button');\n",
              "      quickchartButtonEl.disabled = true;  // To prevent multiple clicks.\n",
              "      quickchartButtonEl.classList.add('colab-df-spinner');\n",
              "      try {\n",
              "        const charts = await google.colab.kernel.invokeFunction(\n",
              "            'suggestCharts', [key], {});\n",
              "      } catch (error) {\n",
              "        console.error('Error during call to suggestCharts:', error);\n",
              "      }\n",
              "      quickchartButtonEl.classList.remove('colab-df-spinner');\n",
              "      quickchartButtonEl.classList.add('colab-df-quickchart-complete');\n",
              "    }\n",
              "    (() => {\n",
              "      let quickchartButtonEl =\n",
              "        document.querySelector('#df-2224f0de-a8c3-4320-8b74-ed9e08248106 button');\n",
              "      quickchartButtonEl.style.display =\n",
              "        google.colab.kernel.accessAllowed ? 'block' : 'none';\n",
              "    })();\n",
              "  </script>\n",
              "</div>\n",
              "    </div>\n",
              "  </div>\n"
            ]
          },
          "metadata": {},
          "execution_count": 74
        }
      ]
    },
    {
      "cell_type": "code",
      "source": [
        "print('length of data is', len(train_df))"
      ],
      "metadata": {
        "colab": {
          "base_uri": "https://localhost:8080/"
        },
        "id": "xHYBJFGA8dh7",
        "outputId": "c6440157-b287-4df9-f54a-701eb3fae90b"
      },
      "execution_count": null,
      "outputs": [
        {
          "output_type": "stream",
          "name": "stdout",
          "text": [
            "length of data is 11824\n"
          ]
        }
      ]
    },
    {
      "cell_type": "code",
      "source": [
        "# Import Test set\n",
        "test_df = pd.read_csv(\"/content/test.csv\", encoding='latin-1')\n",
        "test_df.head()"
      ],
      "metadata": {
        "colab": {
          "base_uri": "https://localhost:8080/",
          "height": 206
        },
        "id": "teKAUL_ucVF3",
        "outputId": "690d1d30-6bec-4e80-9cc6-545c825ec2ac"
      },
      "execution_count": null,
      "outputs": [
        {
          "output_type": "execute_result",
          "data": {
            "text/plain": [
              "     Dataset        FileName  \\\n",
              "0  CMU-MOSEI        121128_3   \n",
              "1  CMU-MOSEI         56006_7   \n",
              "2  CMU-MOSEI  nhD9WSEIspQ_16   \n",
              "3  CMU-MOSEI   kld9r0iFkWM_2   \n",
              "4  CMU-MOSEI         63951_8   \n",
              "\n",
              "                                                text  label2a Starting  Ending  \n",
              "0   The rat is able to control the boy so that th...        0   19.347  26.912  \n",
              "1      But it's just, it's just a really gross movie        1   37.566  40.651  \n",
              "2  So if you watch the mobile space in Japan, you...        0   90.236   98.31  \n",
              "3  Which distribution channels, such as brick and...        0    13.81  20.427  \n",
              "4   It's full of cliches, it's got a stupid love ...        1   57.102  62.731  "
            ],
            "text/html": [
              "\n",
              "  <div id=\"df-6a372cdd-c519-4983-9bf5-9dd5acbbe35f\" class=\"colab-df-container\">\n",
              "    <div>\n",
              "<style scoped>\n",
              "    .dataframe tbody tr th:only-of-type {\n",
              "        vertical-align: middle;\n",
              "    }\n",
              "\n",
              "    .dataframe tbody tr th {\n",
              "        vertical-align: top;\n",
              "    }\n",
              "\n",
              "    .dataframe thead th {\n",
              "        text-align: right;\n",
              "    }\n",
              "</style>\n",
              "<table border=\"1\" class=\"dataframe\">\n",
              "  <thead>\n",
              "    <tr style=\"text-align: right;\">\n",
              "      <th></th>\n",
              "      <th>Dataset</th>\n",
              "      <th>FileName</th>\n",
              "      <th>text</th>\n",
              "      <th>label2a</th>\n",
              "      <th>Starting</th>\n",
              "      <th>Ending</th>\n",
              "    </tr>\n",
              "  </thead>\n",
              "  <tbody>\n",
              "    <tr>\n",
              "      <th>0</th>\n",
              "      <td>CMU-MOSEI</td>\n",
              "      <td>121128_3</td>\n",
              "      <td>The rat is able to control the boy so that th...</td>\n",
              "      <td>0</td>\n",
              "      <td>19.347</td>\n",
              "      <td>26.912</td>\n",
              "    </tr>\n",
              "    <tr>\n",
              "      <th>1</th>\n",
              "      <td>CMU-MOSEI</td>\n",
              "      <td>56006_7</td>\n",
              "      <td>But it's just, it's just a really gross movie</td>\n",
              "      <td>1</td>\n",
              "      <td>37.566</td>\n",
              "      <td>40.651</td>\n",
              "    </tr>\n",
              "    <tr>\n",
              "      <th>2</th>\n",
              "      <td>CMU-MOSEI</td>\n",
              "      <td>nhD9WSEIspQ_16</td>\n",
              "      <td>So if you watch the mobile space in Japan, you...</td>\n",
              "      <td>0</td>\n",
              "      <td>90.236</td>\n",
              "      <td>98.31</td>\n",
              "    </tr>\n",
              "    <tr>\n",
              "      <th>3</th>\n",
              "      <td>CMU-MOSEI</td>\n",
              "      <td>kld9r0iFkWM_2</td>\n",
              "      <td>Which distribution channels, such as brick and...</td>\n",
              "      <td>0</td>\n",
              "      <td>13.81</td>\n",
              "      <td>20.427</td>\n",
              "    </tr>\n",
              "    <tr>\n",
              "      <th>4</th>\n",
              "      <td>CMU-MOSEI</td>\n",
              "      <td>63951_8</td>\n",
              "      <td>It's full of cliches, it's got a stupid love ...</td>\n",
              "      <td>1</td>\n",
              "      <td>57.102</td>\n",
              "      <td>62.731</td>\n",
              "    </tr>\n",
              "  </tbody>\n",
              "</table>\n",
              "</div>\n",
              "    <div class=\"colab-df-buttons\">\n",
              "\n",
              "  <div class=\"colab-df-container\">\n",
              "    <button class=\"colab-df-convert\" onclick=\"convertToInteractive('df-6a372cdd-c519-4983-9bf5-9dd5acbbe35f')\"\n",
              "            title=\"Convert this dataframe to an interactive table.\"\n",
              "            style=\"display:none;\">\n",
              "\n",
              "  <svg xmlns=\"http://www.w3.org/2000/svg\" height=\"24px\" viewBox=\"0 -960 960 960\">\n",
              "    <path d=\"M120-120v-720h720v720H120Zm60-500h600v-160H180v160Zm220 220h160v-160H400v160Zm0 220h160v-160H400v160ZM180-400h160v-160H180v160Zm440 0h160v-160H620v160ZM180-180h160v-160H180v160Zm440 0h160v-160H620v160Z\"/>\n",
              "  </svg>\n",
              "    </button>\n",
              "\n",
              "  <style>\n",
              "    .colab-df-container {\n",
              "      display:flex;\n",
              "      gap: 12px;\n",
              "    }\n",
              "\n",
              "    .colab-df-convert {\n",
              "      background-color: #E8F0FE;\n",
              "      border: none;\n",
              "      border-radius: 50%;\n",
              "      cursor: pointer;\n",
              "      display: none;\n",
              "      fill: #1967D2;\n",
              "      height: 32px;\n",
              "      padding: 0 0 0 0;\n",
              "      width: 32px;\n",
              "    }\n",
              "\n",
              "    .colab-df-convert:hover {\n",
              "      background-color: #E2EBFA;\n",
              "      box-shadow: 0px 1px 2px rgba(60, 64, 67, 0.3), 0px 1px 3px 1px rgba(60, 64, 67, 0.15);\n",
              "      fill: #174EA6;\n",
              "    }\n",
              "\n",
              "    .colab-df-buttons div {\n",
              "      margin-bottom: 4px;\n",
              "    }\n",
              "\n",
              "    [theme=dark] .colab-df-convert {\n",
              "      background-color: #3B4455;\n",
              "      fill: #D2E3FC;\n",
              "    }\n",
              "\n",
              "    [theme=dark] .colab-df-convert:hover {\n",
              "      background-color: #434B5C;\n",
              "      box-shadow: 0px 1px 3px 1px rgba(0, 0, 0, 0.15);\n",
              "      filter: drop-shadow(0px 1px 2px rgba(0, 0, 0, 0.3));\n",
              "      fill: #FFFFFF;\n",
              "    }\n",
              "  </style>\n",
              "\n",
              "    <script>\n",
              "      const buttonEl =\n",
              "        document.querySelector('#df-6a372cdd-c519-4983-9bf5-9dd5acbbe35f button.colab-df-convert');\n",
              "      buttonEl.style.display =\n",
              "        google.colab.kernel.accessAllowed ? 'block' : 'none';\n",
              "\n",
              "      async function convertToInteractive(key) {\n",
              "        const element = document.querySelector('#df-6a372cdd-c519-4983-9bf5-9dd5acbbe35f');\n",
              "        const dataTable =\n",
              "          await google.colab.kernel.invokeFunction('convertToInteractive',\n",
              "                                                    [key], {});\n",
              "        if (!dataTable) return;\n",
              "\n",
              "        const docLinkHtml = 'Like what you see? Visit the ' +\n",
              "          '<a target=\"_blank\" href=https://colab.research.google.com/notebooks/data_table.ipynb>data table notebook</a>'\n",
              "          + ' to learn more about interactive tables.';\n",
              "        element.innerHTML = '';\n",
              "        dataTable['output_type'] = 'display_data';\n",
              "        await google.colab.output.renderOutput(dataTable, element);\n",
              "        const docLink = document.createElement('div');\n",
              "        docLink.innerHTML = docLinkHtml;\n",
              "        element.appendChild(docLink);\n",
              "      }\n",
              "    </script>\n",
              "  </div>\n",
              "\n",
              "\n",
              "<div id=\"df-05ccb8c8-79ea-40d1-a64f-7df6a706c161\">\n",
              "  <button class=\"colab-df-quickchart\" onclick=\"quickchart('df-05ccb8c8-79ea-40d1-a64f-7df6a706c161')\"\n",
              "            title=\"Suggest charts\"\n",
              "            style=\"display:none;\">\n",
              "\n",
              "<svg xmlns=\"http://www.w3.org/2000/svg\" height=\"24px\"viewBox=\"0 0 24 24\"\n",
              "     width=\"24px\">\n",
              "    <g>\n",
              "        <path d=\"M19 3H5c-1.1 0-2 .9-2 2v14c0 1.1.9 2 2 2h14c1.1 0 2-.9 2-2V5c0-1.1-.9-2-2-2zM9 17H7v-7h2v7zm4 0h-2V7h2v10zm4 0h-2v-4h2v4z\"/>\n",
              "    </g>\n",
              "</svg>\n",
              "  </button>\n",
              "\n",
              "<style>\n",
              "  .colab-df-quickchart {\n",
              "      --bg-color: #E8F0FE;\n",
              "      --fill-color: #1967D2;\n",
              "      --hover-bg-color: #E2EBFA;\n",
              "      --hover-fill-color: #174EA6;\n",
              "      --disabled-fill-color: #AAA;\n",
              "      --disabled-bg-color: #DDD;\n",
              "  }\n",
              "\n",
              "  [theme=dark] .colab-df-quickchart {\n",
              "      --bg-color: #3B4455;\n",
              "      --fill-color: #D2E3FC;\n",
              "      --hover-bg-color: #434B5C;\n",
              "      --hover-fill-color: #FFFFFF;\n",
              "      --disabled-bg-color: #3B4455;\n",
              "      --disabled-fill-color: #666;\n",
              "  }\n",
              "\n",
              "  .colab-df-quickchart {\n",
              "    background-color: var(--bg-color);\n",
              "    border: none;\n",
              "    border-radius: 50%;\n",
              "    cursor: pointer;\n",
              "    display: none;\n",
              "    fill: var(--fill-color);\n",
              "    height: 32px;\n",
              "    padding: 0;\n",
              "    width: 32px;\n",
              "  }\n",
              "\n",
              "  .colab-df-quickchart:hover {\n",
              "    background-color: var(--hover-bg-color);\n",
              "    box-shadow: 0 1px 2px rgba(60, 64, 67, 0.3), 0 1px 3px 1px rgba(60, 64, 67, 0.15);\n",
              "    fill: var(--button-hover-fill-color);\n",
              "  }\n",
              "\n",
              "  .colab-df-quickchart-complete:disabled,\n",
              "  .colab-df-quickchart-complete:disabled:hover {\n",
              "    background-color: var(--disabled-bg-color);\n",
              "    fill: var(--disabled-fill-color);\n",
              "    box-shadow: none;\n",
              "  }\n",
              "\n",
              "  .colab-df-spinner {\n",
              "    border: 2px solid var(--fill-color);\n",
              "    border-color: transparent;\n",
              "    border-bottom-color: var(--fill-color);\n",
              "    animation:\n",
              "      spin 1s steps(1) infinite;\n",
              "  }\n",
              "\n",
              "  @keyframes spin {\n",
              "    0% {\n",
              "      border-color: transparent;\n",
              "      border-bottom-color: var(--fill-color);\n",
              "      border-left-color: var(--fill-color);\n",
              "    }\n",
              "    20% {\n",
              "      border-color: transparent;\n",
              "      border-left-color: var(--fill-color);\n",
              "      border-top-color: var(--fill-color);\n",
              "    }\n",
              "    30% {\n",
              "      border-color: transparent;\n",
              "      border-left-color: var(--fill-color);\n",
              "      border-top-color: var(--fill-color);\n",
              "      border-right-color: var(--fill-color);\n",
              "    }\n",
              "    40% {\n",
              "      border-color: transparent;\n",
              "      border-right-color: var(--fill-color);\n",
              "      border-top-color: var(--fill-color);\n",
              "    }\n",
              "    60% {\n",
              "      border-color: transparent;\n",
              "      border-right-color: var(--fill-color);\n",
              "    }\n",
              "    80% {\n",
              "      border-color: transparent;\n",
              "      border-right-color: var(--fill-color);\n",
              "      border-bottom-color: var(--fill-color);\n",
              "    }\n",
              "    90% {\n",
              "      border-color: transparent;\n",
              "      border-bottom-color: var(--fill-color);\n",
              "    }\n",
              "  }\n",
              "</style>\n",
              "\n",
              "  <script>\n",
              "    async function quickchart(key) {\n",
              "      const quickchartButtonEl =\n",
              "        document.querySelector('#' + key + ' button');\n",
              "      quickchartButtonEl.disabled = true;  // To prevent multiple clicks.\n",
              "      quickchartButtonEl.classList.add('colab-df-spinner');\n",
              "      try {\n",
              "        const charts = await google.colab.kernel.invokeFunction(\n",
              "            'suggestCharts', [key], {});\n",
              "      } catch (error) {\n",
              "        console.error('Error during call to suggestCharts:', error);\n",
              "      }\n",
              "      quickchartButtonEl.classList.remove('colab-df-spinner');\n",
              "      quickchartButtonEl.classList.add('colab-df-quickchart-complete');\n",
              "    }\n",
              "    (() => {\n",
              "      let quickchartButtonEl =\n",
              "        document.querySelector('#df-05ccb8c8-79ea-40d1-a64f-7df6a706c161 button');\n",
              "      quickchartButtonEl.style.display =\n",
              "        google.colab.kernel.accessAllowed ? 'block' : 'none';\n",
              "    })();\n",
              "  </script>\n",
              "</div>\n",
              "    </div>\n",
              "  </div>\n"
            ]
          },
          "metadata": {},
          "execution_count": 75
        }
      ]
    },
    {
      "cell_type": "code",
      "source": [
        "print('length of data is', len(test_df))"
      ],
      "metadata": {
        "colab": {
          "base_uri": "https://localhost:8080/"
        },
        "id": "0uusBmPUBQ8j",
        "outputId": "9222b98c-00d4-4281-ad2a-5faca5ca2918"
      },
      "execution_count": null,
      "outputs": [
        {
          "output_type": "stream",
          "name": "stdout",
          "text": [
            "length of data is 2550\n"
          ]
        }
      ]
    },
    {
      "cell_type": "code",
      "source": [
        "# Import Validation set\n",
        "valid_df = pd.read_csv(\"/content/valid.csv\", encoding='latin-1')\n",
        "valid_df.head()"
      ],
      "metadata": {
        "colab": {
          "base_uri": "https://localhost:8080/",
          "height": 206
        },
        "id": "EBl47INFcVc2",
        "outputId": "fb163581-f812-4b51-b3ba-8fa61633a6a7"
      },
      "execution_count": null,
      "outputs": [
        {
          "output_type": "execute_result",
          "data": {
            "text/plain": [
              "     Dataset       FileName  \\\n",
              "0  CMU-MOSEI  5Tqu1IXJjGY_3   \n",
              "1  CMU-MOSEI  mNurUl_Q2UY_9   \n",
              "2  CMU-MOSEI      237009_11   \n",
              "3  CMU-MOSEI        33089_6   \n",
              "4  CMU-MOSEI      234053_20   \n",
              "\n",
              "                                                text  label2a     Starting  \\\n",
              "0  All it takes is for mum to walk in and say, \"W...        1  13.53061224   \n",
              "1                     But that interest will accrue.        0       71.948   \n",
              "2                          , it should be rated junk        1       54.019   \n",
              "3   It's got lots of like, really stupid humor bu...        0       40.878   \n",
              "4                       It's a bloody mess at points        1       73.554   \n",
              "\n",
              "        Ending  \n",
              "0  19.15011338  \n",
              "1       74.764  \n",
              "2       56.645  \n",
              "3       48.893  \n",
              "4       76.021  "
            ],
            "text/html": [
              "\n",
              "  <div id=\"df-3274cb6c-a195-4d10-908d-37a66e4f4b4d\" class=\"colab-df-container\">\n",
              "    <div>\n",
              "<style scoped>\n",
              "    .dataframe tbody tr th:only-of-type {\n",
              "        vertical-align: middle;\n",
              "    }\n",
              "\n",
              "    .dataframe tbody tr th {\n",
              "        vertical-align: top;\n",
              "    }\n",
              "\n",
              "    .dataframe thead th {\n",
              "        text-align: right;\n",
              "    }\n",
              "</style>\n",
              "<table border=\"1\" class=\"dataframe\">\n",
              "  <thead>\n",
              "    <tr style=\"text-align: right;\">\n",
              "      <th></th>\n",
              "      <th>Dataset</th>\n",
              "      <th>FileName</th>\n",
              "      <th>text</th>\n",
              "      <th>label2a</th>\n",
              "      <th>Starting</th>\n",
              "      <th>Ending</th>\n",
              "    </tr>\n",
              "  </thead>\n",
              "  <tbody>\n",
              "    <tr>\n",
              "      <th>0</th>\n",
              "      <td>CMU-MOSEI</td>\n",
              "      <td>5Tqu1IXJjGY_3</td>\n",
              "      <td>All it takes is for mum to walk in and say, \"W...</td>\n",
              "      <td>1</td>\n",
              "      <td>13.53061224</td>\n",
              "      <td>19.15011338</td>\n",
              "    </tr>\n",
              "    <tr>\n",
              "      <th>1</th>\n",
              "      <td>CMU-MOSEI</td>\n",
              "      <td>mNurUl_Q2UY_9</td>\n",
              "      <td>But that interest will accrue.</td>\n",
              "      <td>0</td>\n",
              "      <td>71.948</td>\n",
              "      <td>74.764</td>\n",
              "    </tr>\n",
              "    <tr>\n",
              "      <th>2</th>\n",
              "      <td>CMU-MOSEI</td>\n",
              "      <td>237009_11</td>\n",
              "      <td>, it should be rated junk</td>\n",
              "      <td>1</td>\n",
              "      <td>54.019</td>\n",
              "      <td>56.645</td>\n",
              "    </tr>\n",
              "    <tr>\n",
              "      <th>3</th>\n",
              "      <td>CMU-MOSEI</td>\n",
              "      <td>33089_6</td>\n",
              "      <td>It's got lots of like, really stupid humor bu...</td>\n",
              "      <td>0</td>\n",
              "      <td>40.878</td>\n",
              "      <td>48.893</td>\n",
              "    </tr>\n",
              "    <tr>\n",
              "      <th>4</th>\n",
              "      <td>CMU-MOSEI</td>\n",
              "      <td>234053_20</td>\n",
              "      <td>It's a bloody mess at points</td>\n",
              "      <td>1</td>\n",
              "      <td>73.554</td>\n",
              "      <td>76.021</td>\n",
              "    </tr>\n",
              "  </tbody>\n",
              "</table>\n",
              "</div>\n",
              "    <div class=\"colab-df-buttons\">\n",
              "\n",
              "  <div class=\"colab-df-container\">\n",
              "    <button class=\"colab-df-convert\" onclick=\"convertToInteractive('df-3274cb6c-a195-4d10-908d-37a66e4f4b4d')\"\n",
              "            title=\"Convert this dataframe to an interactive table.\"\n",
              "            style=\"display:none;\">\n",
              "\n",
              "  <svg xmlns=\"http://www.w3.org/2000/svg\" height=\"24px\" viewBox=\"0 -960 960 960\">\n",
              "    <path d=\"M120-120v-720h720v720H120Zm60-500h600v-160H180v160Zm220 220h160v-160H400v160Zm0 220h160v-160H400v160ZM180-400h160v-160H180v160Zm440 0h160v-160H620v160ZM180-180h160v-160H180v160Zm440 0h160v-160H620v160Z\"/>\n",
              "  </svg>\n",
              "    </button>\n",
              "\n",
              "  <style>\n",
              "    .colab-df-container {\n",
              "      display:flex;\n",
              "      gap: 12px;\n",
              "    }\n",
              "\n",
              "    .colab-df-convert {\n",
              "      background-color: #E8F0FE;\n",
              "      border: none;\n",
              "      border-radius: 50%;\n",
              "      cursor: pointer;\n",
              "      display: none;\n",
              "      fill: #1967D2;\n",
              "      height: 32px;\n",
              "      padding: 0 0 0 0;\n",
              "      width: 32px;\n",
              "    }\n",
              "\n",
              "    .colab-df-convert:hover {\n",
              "      background-color: #E2EBFA;\n",
              "      box-shadow: 0px 1px 2px rgba(60, 64, 67, 0.3), 0px 1px 3px 1px rgba(60, 64, 67, 0.15);\n",
              "      fill: #174EA6;\n",
              "    }\n",
              "\n",
              "    .colab-df-buttons div {\n",
              "      margin-bottom: 4px;\n",
              "    }\n",
              "\n",
              "    [theme=dark] .colab-df-convert {\n",
              "      background-color: #3B4455;\n",
              "      fill: #D2E3FC;\n",
              "    }\n",
              "\n",
              "    [theme=dark] .colab-df-convert:hover {\n",
              "      background-color: #434B5C;\n",
              "      box-shadow: 0px 1px 3px 1px rgba(0, 0, 0, 0.15);\n",
              "      filter: drop-shadow(0px 1px 2px rgba(0, 0, 0, 0.3));\n",
              "      fill: #FFFFFF;\n",
              "    }\n",
              "  </style>\n",
              "\n",
              "    <script>\n",
              "      const buttonEl =\n",
              "        document.querySelector('#df-3274cb6c-a195-4d10-908d-37a66e4f4b4d button.colab-df-convert');\n",
              "      buttonEl.style.display =\n",
              "        google.colab.kernel.accessAllowed ? 'block' : 'none';\n",
              "\n",
              "      async function convertToInteractive(key) {\n",
              "        const element = document.querySelector('#df-3274cb6c-a195-4d10-908d-37a66e4f4b4d');\n",
              "        const dataTable =\n",
              "          await google.colab.kernel.invokeFunction('convertToInteractive',\n",
              "                                                    [key], {});\n",
              "        if (!dataTable) return;\n",
              "\n",
              "        const docLinkHtml = 'Like what you see? Visit the ' +\n",
              "          '<a target=\"_blank\" href=https://colab.research.google.com/notebooks/data_table.ipynb>data table notebook</a>'\n",
              "          + ' to learn more about interactive tables.';\n",
              "        element.innerHTML = '';\n",
              "        dataTable['output_type'] = 'display_data';\n",
              "        await google.colab.output.renderOutput(dataTable, element);\n",
              "        const docLink = document.createElement('div');\n",
              "        docLink.innerHTML = docLinkHtml;\n",
              "        element.appendChild(docLink);\n",
              "      }\n",
              "    </script>\n",
              "  </div>\n",
              "\n",
              "\n",
              "<div id=\"df-0666dbb4-c61c-4906-b24d-0caa28e59f5e\">\n",
              "  <button class=\"colab-df-quickchart\" onclick=\"quickchart('df-0666dbb4-c61c-4906-b24d-0caa28e59f5e')\"\n",
              "            title=\"Suggest charts\"\n",
              "            style=\"display:none;\">\n",
              "\n",
              "<svg xmlns=\"http://www.w3.org/2000/svg\" height=\"24px\"viewBox=\"0 0 24 24\"\n",
              "     width=\"24px\">\n",
              "    <g>\n",
              "        <path d=\"M19 3H5c-1.1 0-2 .9-2 2v14c0 1.1.9 2 2 2h14c1.1 0 2-.9 2-2V5c0-1.1-.9-2-2-2zM9 17H7v-7h2v7zm4 0h-2V7h2v10zm4 0h-2v-4h2v4z\"/>\n",
              "    </g>\n",
              "</svg>\n",
              "  </button>\n",
              "\n",
              "<style>\n",
              "  .colab-df-quickchart {\n",
              "      --bg-color: #E8F0FE;\n",
              "      --fill-color: #1967D2;\n",
              "      --hover-bg-color: #E2EBFA;\n",
              "      --hover-fill-color: #174EA6;\n",
              "      --disabled-fill-color: #AAA;\n",
              "      --disabled-bg-color: #DDD;\n",
              "  }\n",
              "\n",
              "  [theme=dark] .colab-df-quickchart {\n",
              "      --bg-color: #3B4455;\n",
              "      --fill-color: #D2E3FC;\n",
              "      --hover-bg-color: #434B5C;\n",
              "      --hover-fill-color: #FFFFFF;\n",
              "      --disabled-bg-color: #3B4455;\n",
              "      --disabled-fill-color: #666;\n",
              "  }\n",
              "\n",
              "  .colab-df-quickchart {\n",
              "    background-color: var(--bg-color);\n",
              "    border: none;\n",
              "    border-radius: 50%;\n",
              "    cursor: pointer;\n",
              "    display: none;\n",
              "    fill: var(--fill-color);\n",
              "    height: 32px;\n",
              "    padding: 0;\n",
              "    width: 32px;\n",
              "  }\n",
              "\n",
              "  .colab-df-quickchart:hover {\n",
              "    background-color: var(--hover-bg-color);\n",
              "    box-shadow: 0 1px 2px rgba(60, 64, 67, 0.3), 0 1px 3px 1px rgba(60, 64, 67, 0.15);\n",
              "    fill: var(--button-hover-fill-color);\n",
              "  }\n",
              "\n",
              "  .colab-df-quickchart-complete:disabled,\n",
              "  .colab-df-quickchart-complete:disabled:hover {\n",
              "    background-color: var(--disabled-bg-color);\n",
              "    fill: var(--disabled-fill-color);\n",
              "    box-shadow: none;\n",
              "  }\n",
              "\n",
              "  .colab-df-spinner {\n",
              "    border: 2px solid var(--fill-color);\n",
              "    border-color: transparent;\n",
              "    border-bottom-color: var(--fill-color);\n",
              "    animation:\n",
              "      spin 1s steps(1) infinite;\n",
              "  }\n",
              "\n",
              "  @keyframes spin {\n",
              "    0% {\n",
              "      border-color: transparent;\n",
              "      border-bottom-color: var(--fill-color);\n",
              "      border-left-color: var(--fill-color);\n",
              "    }\n",
              "    20% {\n",
              "      border-color: transparent;\n",
              "      border-left-color: var(--fill-color);\n",
              "      border-top-color: var(--fill-color);\n",
              "    }\n",
              "    30% {\n",
              "      border-color: transparent;\n",
              "      border-left-color: var(--fill-color);\n",
              "      border-top-color: var(--fill-color);\n",
              "      border-right-color: var(--fill-color);\n",
              "    }\n",
              "    40% {\n",
              "      border-color: transparent;\n",
              "      border-right-color: var(--fill-color);\n",
              "      border-top-color: var(--fill-color);\n",
              "    }\n",
              "    60% {\n",
              "      border-color: transparent;\n",
              "      border-right-color: var(--fill-color);\n",
              "    }\n",
              "    80% {\n",
              "      border-color: transparent;\n",
              "      border-right-color: var(--fill-color);\n",
              "      border-bottom-color: var(--fill-color);\n",
              "    }\n",
              "    90% {\n",
              "      border-color: transparent;\n",
              "      border-bottom-color: var(--fill-color);\n",
              "    }\n",
              "  }\n",
              "</style>\n",
              "\n",
              "  <script>\n",
              "    async function quickchart(key) {\n",
              "      const quickchartButtonEl =\n",
              "        document.querySelector('#' + key + ' button');\n",
              "      quickchartButtonEl.disabled = true;  // To prevent multiple clicks.\n",
              "      quickchartButtonEl.classList.add('colab-df-spinner');\n",
              "      try {\n",
              "        const charts = await google.colab.kernel.invokeFunction(\n",
              "            'suggestCharts', [key], {});\n",
              "      } catch (error) {\n",
              "        console.error('Error during call to suggestCharts:', error);\n",
              "      }\n",
              "      quickchartButtonEl.classList.remove('colab-df-spinner');\n",
              "      quickchartButtonEl.classList.add('colab-df-quickchart-complete');\n",
              "    }\n",
              "    (() => {\n",
              "      let quickchartButtonEl =\n",
              "        document.querySelector('#df-0666dbb4-c61c-4906-b24d-0caa28e59f5e button');\n",
              "      quickchartButtonEl.style.display =\n",
              "        google.colab.kernel.accessAllowed ? 'block' : 'none';\n",
              "    })();\n",
              "  </script>\n",
              "</div>\n",
              "    </div>\n",
              "  </div>\n"
            ]
          },
          "metadata": {},
          "execution_count": 76
        }
      ]
    },
    {
      "cell_type": "code",
      "source": [
        "print('length of data is', len(valid_df))"
      ],
      "metadata": {
        "colab": {
          "base_uri": "https://localhost:8080/"
        },
        "id": "GYP3mQBxb35v",
        "outputId": "edd0b3f3-86d4-4f81-9858-f8d3ddaf73d2"
      },
      "execution_count": null,
      "outputs": [
        {
          "output_type": "stream",
          "name": "stdout",
          "text": [
            "length of data is 2602\n"
          ]
        }
      ]
    },
    {
      "cell_type": "code",
      "source": [
        "train_df.label2a.plot.hist()"
      ],
      "metadata": {
        "colab": {
          "base_uri": "https://localhost:8080/",
          "height": 448
        },
        "id": "qK7061bdHcUH",
        "outputId": "b89930b2-3e6f-4e13-912f-741ec77d024a"
      },
      "execution_count": null,
      "outputs": [
        {
          "output_type": "execute_result",
          "data": {
            "text/plain": [
              "<Axes: ylabel='Frequency'>"
            ]
          },
          "metadata": {},
          "execution_count": 11
        },
        {
          "output_type": "display_data",
          "data": {
            "text/plain": [
              "<Figure size 640x480 with 1 Axes>"
            ],
            "image/png": "[encoded data removed]"
          },
          "metadata": {}
        }
      ]
    },
    {
      "cell_type": "markdown",
      "source": [
        "**Preprocess**"
      ],
      "metadata": {
        "id": "3vSrxdCRaodH"
      }
    },
    {
      "cell_type": "code",
      "source": [
        "x_train = train_df['text']\n",
        "y_train = train_df['label2a']\n",
        "x_test = test_df['text']\n",
        "y_test = test_df['label2a']\n",
        "x_valid = valid_df['text']\n",
        "y_valid = valid_df['label2a']"
      ],
      "metadata": {
        "id": "-B44jyIK00Gb"
      },
      "execution_count": null,
      "outputs": []
    },
    {
      "cell_type": "code",
      "source": [
        "print(f'x_train size = {x_train.shape}')\n",
        "print(f'y_train size = {y_train.shape}')\n",
        "print(f'x_test size = {x_test.shape}')\n",
        "print(f'y_test size = {y_test.shape}')\n",
        "print(f'x_valid size = {x_valid.shape}')\n",
        "print(f'y_valid size = {y_valid.shape}')"
      ],
      "metadata": {
        "colab": {
          "base_uri": "https://localhost:8080/"
        },
        "id": "NOZ1dxMj1roS",
        "outputId": "d90d8b49-cfd7-4347-d0c2-4f6bfddd259d"
      },
      "execution_count": null,
      "outputs": [
        {
          "output_type": "stream",
          "name": "stdout",
          "text": [
            "x_train size = (11824,)\n",
            "y_train size = (11824,)\n",
            "x_test size = (2550,)\n",
            "y_test size = (2550,)\n",
            "x_valid size = (2602,)\n",
            "y_valid size = (2602,)\n"
          ]
        }
      ]
    },
    {
      "cell_type": "code",
      "source": [
        "import re\n",
        "from collections import Counter\n",
        "import nltk\n",
        "nltk.download('stopwords')\n",
        "from nltk.corpus import stopwords\n",
        "nltk.download('punkt')\n",
        "from nltk.tokenize import word_tokenize\n"
      ],
      "metadata": {
        "colab": {
          "base_uri": "https://localhost:8080/"
        },
        "id": "UAFjJr-2O2zg",
        "outputId": "df18a79f-bd49-4ea5-9a05-ff28de1e2202"
      },
      "execution_count": null,
      "outputs": [
        {
          "output_type": "stream",
          "name": "stderr",
          "text": [
            "[nltk_data] Downloading package stopwords to /root/nltk_data...\n",
            "[nltk_data]   Package stopwords is already up-to-date!\n",
            "[nltk_data] Downloading package punkt to /root/nltk_data...\n",
            "[nltk_data]   Package punkt is already up-to-date!\n"
          ]
        }
      ]
    },
    {
      "cell_type": "code",
      "source": [
        "print(stopwords.words('english'))\n",
        "stop_words = stopwords.words('english')"
      ],
      "metadata": {
        "colab": {
          "base_uri": "https://localhost:8080/"
        },
        "id": "FVN5hjFiQSxp",
        "outputId": "a9bd2f56-0d91-42b5-cb6d-3e75f84435f4"
      },
      "execution_count": null,
      "outputs": [
        {
          "output_type": "stream",
          "name": "stdout",
          "text": [
            "['i', 'me', 'my', 'myself', 'we', 'our', 'ours', 'ourselves', 'you', \"you're\", \"you've\", \"you'll\", \"you'd\", 'your', 'yours', 'yourself', 'yourselves', 'he', 'him', 'his', 'himself', 'she', \"she's\", 'her', 'hers', 'herself', 'it', \"it's\", 'its', 'itself', 'they', 'them', 'their', 'theirs', 'themselves', 'what', 'which', 'who', 'whom', 'this', 'that', \"that'll\", 'these', 'those', 'am', 'is', 'are', 'was', 'were', 'be', 'been', 'being', 'have', 'has', 'had', 'having', 'do', 'does', 'did', 'doing', 'a', 'an', 'the', 'and', 'but', 'if', 'or', 'because', 'as', 'until', 'while', 'of', 'at', 'by', 'for', 'with', 'about', 'against', 'between', 'into', 'through', 'during', 'before', 'after', 'above', 'below', 'to', 'from', 'up', 'down', 'in', 'out', 'on', 'off', 'over', 'under', 'again', 'further', 'then', 'once', 'here', 'there', 'when', 'where', 'why', 'how', 'all', 'any', 'both', 'each', 'few', 'more', 'most', 'other', 'some', 'such', 'no', 'nor', 'not', 'only', 'own', 'same', 'so', 'than', 'too', 'very', 's', 't', 'can', 'will', 'just', 'don', \"don't\", 'should', \"should've\", 'now', 'd', 'll', 'm', 'o', 're', 've', 'y', 'ain', 'aren', \"aren't\", 'couldn', \"couldn't\", 'didn', \"didn't\", 'doesn', \"doesn't\", 'hadn', \"hadn't\", 'hasn', \"hasn't\", 'haven', \"haven't\", 'isn', \"isn't\", 'ma', 'mightn', \"mightn't\", 'mustn', \"mustn't\", 'needn', \"needn't\", 'shan', \"shan't\", 'shouldn', \"shouldn't\", 'wasn', \"wasn't\", 'weren', \"weren't\", 'won', \"won't\", 'wouldn', \"wouldn't\"]\n"
          ]
        }
      ]
    },
    {
      "cell_type": "code",
      "source": [
        "def preprocess(text):\n",
        "    text = re.sub(r'http\\S+', 'HTTPURL', text)#\n",
        "    text = re.sub(r'|', \"\", text) #remove\n",
        "    text = re.sub(r'\\n|\\r|\\t', ' ', text)\n",
        "    text = re.sub('\\w*\\d\\w*', '', text)\n",
        "    text = re.sub(r'<\\d{2}:\\d{2}:\\d{2}.\\d{3}>', ' ', text)\n",
        "    text = re.sub(r'<c>.*?</c>', '', text)\n",
        "    text = re.sub(r'<c>', ' ', text)\n",
        "    text = re.sub(r'</c>', ' ', text)\n",
        "    text = re.sub(r\"@_!$%^&*()<>?/}{~:#']\", r\" \\1\", text)\n",
        "    text = re.sub(r\"[^a-zA-Z]+\", r\" \", text)\n",
        "    text = re.sub(r\"\\s+\", r\" \", text).strip()\n",
        "    text = nltk.word_tokenize(text.lower()) #lower case\n",
        "    text = [w for w in text if not w in stop_words]\n",
        "    text = (\" \").join(text)\n",
        "    return text"
      ],
      "metadata": {
        "id": "vym-J35BPPGS"
      },
      "execution_count": null,
      "outputs": []
    },
    {
      "cell_type": "code",
      "source": [
        "x_train = x_train.apply(preprocess)\n",
        "x_test = x_test.apply(preprocess)\n",
        "x_valid = x_valid.apply(preprocess)"
      ],
      "metadata": {
        "id": "wiRMKX5k5uR2"
      },
      "execution_count": null,
      "outputs": []
    },
    {
      "cell_type": "code",
      "source": [
        "x_train[10]"
      ],
      "metadata": {
        "colab": {
          "base_uri": "https://localhost:8080/",
          "height": 36
        },
        "id": "5WSHDpq_QCyh",
        "outputId": "9ac732ac-3d7e-422b-d14e-11d32308a3c8"
      },
      "execution_count": null,
      "outputs": [
        {
          "output_type": "execute_result",
          "data": {
            "text/plain": [
              "'romantic comedy woman bridesmaid twenty seven times'"
            ],
            "application/vnd.google.colaboratory.intrinsic+json": {
              "type": "string"
            }
          },
          "metadata": {},
          "execution_count": 83
        }
      ]
    },
    {
      "cell_type": "code",
      "source": [
        "x_train.iloc[:10].apply(lambda x: nltk.word_tokenize(x))"
      ],
      "metadata": {
        "colab": {
          "base_uri": "https://localhost:8080/"
        },
        "id": "MbTa06C46P1i",
        "outputId": "b180992f-cd80-485b-f0af-54c986aee503"
      },
      "execution_count": null,
      "outputs": [
        {
          "output_type": "execute_result",
          "data": {
            "text/plain": [
              "0    [etf, updates, intraday, updates, hours, updates]\n",
              "1    [basically, dracula, goes, around, killing, pe...\n",
              "2    [nevertheless, last, crusade, returns, origina...\n",
              "3    [another, exercise, going, go, mas, know, love...\n",
              "4    [going, kill, us, soon, leave, said, know, pro...\n",
              "5    [billy, balls, features, one, team, riders, bi...\n",
              "6                       [also, follow, facebook, page]\n",
              "7    [truth, matter, infer, lot, biases, lot, judgm...\n",
              "8    [voiceover, sahil, asks, stop, forcing, people...\n",
              "9    [past, performance, indication, future, value,...\n",
              "Name: text, dtype: object"
            ]
          },
          "metadata": {},
          "execution_count": 84
        }
      ]
    },
    {
      "cell_type": "markdown",
      "source": [
        "**LSTM**"
      ],
      "metadata": {
        "id": "TgzZoD6YS1IR"
      }
    },
    {
      "cell_type": "code",
      "source": [
        "import tensorflow as tf\n",
        "from tensorflow import keras\n",
        "from tensorflow.keras import layers\n",
        "from tensorflow.keras.preprocessing.text import Tokenizer\n",
        "from tensorflow.keras.preprocessing.sequence import pad_sequences"
      ],
      "metadata": {
        "id": "HIS84PGD7Oyk"
      },
      "execution_count": null,
      "outputs": []
    },
    {
      "cell_type": "code",
      "source": [
        "tokenizer = Tokenizer(num_words=11000)\n",
        "tokenizer.fit_on_texts(x_train)\n",
        "seq = tokenizer.texts_to_sequences(x_train)\n",
        "x_train_tokenized = pad_sequences(seq, maxlen=110, padding='post')"
      ],
      "metadata": {
        "id": "6nYP8sq78kQY"
      },
      "execution_count": null,
      "outputs": []
    },
    {
      "cell_type": "code",
      "source": [
        "x_train_tokenized"
      ],
      "metadata": {
        "colab": {
          "base_uri": "https://localhost:8080/"
        },
        "id": "sBghR_ox_aNe",
        "outputId": "2d9fdf75-8d00-47fa-ef10-484801974936"
      },
      "execution_count": null,
      "outputs": [
        {
          "output_type": "execute_result",
          "data": {
            "text/plain": [
              "array([[5175, 2618, 5176, ...,    0,    0,    0],\n",
              "       [ 343, 3422,  362, ...,    0,    0,    0],\n",
              "       [2168,   89, 5177, ...,    0,    0,    0],\n",
              "       ...,\n",
              "       [ 761,  506,   40, ...,    0,    0,    0],\n",
              "       [  68, 1141, 1827, ...,    0,    0,    0],\n",
              "       [ 239,    2,    0, ...,    0,    0,    0]], dtype=int32)"
            ]
          },
          "metadata": {},
          "execution_count": 87
        }
      ]
    },
    {
      "cell_type": "code",
      "source": [
        "seq = tokenizer.texts_to_sequences(x_valid)\n",
        "x_valid_tokenized = pad_sequences(seq, maxlen=110,padding='post')\n",
        "seq = tokenizer.texts_to_sequences(x_test)\n",
        "x_test_tokenized = pad_sequences(seq, maxlen=110,padding='post')"
      ],
      "metadata": {
        "id": "XhB8vRWR_mGC"
      },
      "execution_count": null,
      "outputs": []
    },
    {
      "cell_type": "code",
      "source": [
        "from tensorflow.keras.models import Sequential\n",
        "from tensorflow.keras.layers import Dense, Conv1D, Conv2D ,MaxPool1D, MaxPool2D , Flatten , Dropout , BatchNormalization, LSTM, Embedding, GlobalAveragePooling1D, Bidirectional\n",
        "from tensorflow.keras.callbacks import ModelCheckpoint, EarlyStopping\n",
        "from keras import regularizers"
      ],
      "metadata": {
        "id": "rE7ApI69fVcP"
      },
      "execution_count": null,
      "outputs": []
    },
    {
      "cell_type": "code",
      "source": [
        "batch = 128\n",
        "epochs = 10\n",
        "embedding_dim = 64\n",
        "max_features = 11000   # max number of words\n",
        "\n",
        "model = Sequential()\n",
        "model.add(Embedding(max_features+1, embedding_dim))\n",
        "model.add(Bidirectional(LSTM(128, return_sequences=True, activation='tanh')))\n",
        "model.add(Dropout(0.2))\n",
        "model.add(Bidirectional(LSTM(64, activation='tanh')))\n",
        "model.add(Dropout(0.2))\n",
        "model.add(Dense(256, activation = 'relu'))\n",
        "model.add(Dropout(0.2))\n",
        "model.add(Dense(128, activation = 'relu'))\n",
        "model.add(Dropout(0.2))\n",
        "model.add(Dense(64, activation = 'relu'))\n",
        "model.add(Dropout(0.2))\n",
        "model.add(Dense(32, activation = 'relu'))\n",
        "model.add(Dropout(0.2))\n",
        "\n",
        "model.add(Dense(1, activation = 'sigmoid'))\n",
        "\n",
        "model.summary()"
      ],
      "metadata": {
        "colab": {
          "base_uri": "https://localhost:8080/"
        },
        "id": "nNlJPuQq_lFh",
        "outputId": "1b985791-090f-49f9-b3ef-f65706bdeb5b"
      },
      "execution_count": null,
      "outputs": [
        {
          "output_type": "stream",
          "name": "stdout",
          "text": [
            "Model: \"sequential_21\"\n",
            "_________________________________________________________________\n",
            " Layer (type)                Output Shape              Param #   \n",
            "=================================================================\n",
            " embedding_20 (Embedding)    (None, None, 64)          704064    \n",
            "                                                                 \n",
            " bidirectional_35 (Bidirect  (None, None, 256)         197632    \n",
            " ional)                                                          \n",
            "                                                                 \n",
            " dropout_66 (Dropout)        (None, None, 256)         0         \n",
            "                                                                 \n",
            " bidirectional_36 (Bidirect  (None, 128)               164352    \n",
            " ional)                                                          \n",
            "                                                                 \n",
            " dropout_67 (Dropout)        (None, 128)               0         \n",
            "                                                                 \n",
            " dense_85 (Dense)            (None, 256)               33024     \n",
            "                                                                 \n",
            " dropout_68 (Dropout)        (None, 256)               0         \n",
            "                                                                 \n",
            " dense_86 (Dense)            (None, 128)               32896     \n",
            "                                                                 \n",
            " dropout_69 (Dropout)        (None, 128)               0         \n",
            "                                                                 \n",
            " dense_87 (Dense)            (None, 64)                8256      \n",
            "                                                                 \n",
            " dropout_70 (Dropout)        (None, 64)                0         \n",
            "                                                                 \n",
            " dense_88 (Dense)            (None, 32)                2080      \n",
            "                                                                 \n",
            " dropout_71 (Dropout)        (None, 32)                0         \n",
            "                                                                 \n",
            " dense_89 (Dense)            (None, 1)                 33        \n",
            "                                                                 \n",
            "=================================================================\n",
            "Total params: 1142337 (4.36 MB)\n",
            "Trainable params: 1142337 (4.36 MB)\n",
            "Non-trainable params: 0 (0.00 Byte)\n",
            "_________________________________________________________________\n"
          ]
        }
      ]
    },
    {
      "cell_type": "code",
      "source": [
        "save_model = ModelCheckpoint('best_model.h5', save_best_only=True, monitor='val_loss', mode='min', verbose=2)\n",
        "model.compile(loss='binary_crossentropy', optimizer='adam' , metrics=['accuracy'])\n",
        "\n",
        "history = model.fit(x_train_tokenized, y_train, batch_size=batch, epochs=epochs, validation_data=(x_valid_tokenized, y_valid), shuffle = True, verbose=1,\n",
        "                    callbacks=[save_model])"
      ],
      "metadata": {
        "colab": {
          "base_uri": "https://localhost:8080/"
        },
        "id": "X-BbIvAKgGvE",
        "outputId": "06b8d178-fa4b-4a0f-f10b-e106dbfffc75"
      },
      "execution_count": null,
      "outputs": [
        {
          "output_type": "stream",
          "name": "stdout",
          "text": [
            "Epoch 1/10\n",
            "93/93 [==============================] - ETA: 0s - loss: 0.5180 - accuracy: 0.7680\n",
            "Epoch 1: val_loss improved from inf to 0.28792, saving model to best_model.h5\n",
            "93/93 [==============================] - 28s 154ms/step - loss: 0.5180 - accuracy: 0.7680 - val_loss: 0.2879 - val_accuracy: 0.8878\n",
            "Epoch 2/10\n",
            "93/93 [==============================] - ETA: 0s - loss: 0.2100 - accuracy: 0.9257\n",
            "Epoch 2: val_loss improved from 0.28792 to 0.23774, saving model to best_model.h5\n",
            "93/93 [==============================] - 8s 91ms/step - loss: 0.2100 - accuracy: 0.9257 - val_loss: 0.2377 - val_accuracy: 0.9116\n",
            "Epoch 3/10\n",
            "93/93 [==============================] - ETA: 0s - loss: 0.1231 - accuracy: 0.9571\n",
            "Epoch 3: val_loss did not improve from 0.23774\n",
            "93/93 [==============================] - 8s 85ms/step - loss: 0.1231 - accuracy: 0.9571 - val_loss: 0.2509 - val_accuracy: 0.9135\n",
            "Epoch 4/10\n",
            "93/93 [==============================] - ETA: 0s - loss: 0.0888 - accuracy: 0.9683\n",
            "Epoch 4: val_loss did not improve from 0.23774\n",
            "93/93 [==============================] - 5s 50ms/step - loss: 0.0888 - accuracy: 0.9683 - val_loss: 0.3577 - val_accuracy: 0.9016\n",
            "Epoch 5/10\n",
            "93/93 [==============================] - ETA: 0s - loss: 0.0660 - accuracy: 0.9783\n",
            "Epoch 5: val_loss did not improve from 0.23774\n",
            "93/93 [==============================] - 4s 40ms/step - loss: 0.0660 - accuracy: 0.9783 - val_loss: 0.3914 - val_accuracy: 0.8997\n",
            "Epoch 6/10\n",
            "93/93 [==============================] - ETA: 0s - loss: 0.0773 - accuracy: 0.9734\n",
            "Epoch 6: val_loss did not improve from 0.23774\n",
            "93/93 [==============================] - 4s 40ms/step - loss: 0.0773 - accuracy: 0.9734 - val_loss: 0.3854 - val_accuracy: 0.8905\n",
            "Epoch 7/10\n",
            "93/93 [==============================] - ETA: 0s - loss: 0.0546 - accuracy: 0.9820\n",
            "Epoch 7: val_loss did not improve from 0.23774\n",
            "93/93 [==============================] - 5s 52ms/step - loss: 0.0546 - accuracy: 0.9820 - val_loss: 0.4839 - val_accuracy: 0.8974\n",
            "Epoch 8/10\n",
            "93/93 [==============================] - ETA: 0s - loss: 0.0461 - accuracy: 0.9844\n",
            "Epoch 8: val_loss did not improve from 0.23774\n",
            "93/93 [==============================] - 5s 53ms/step - loss: 0.0461 - accuracy: 0.9844 - val_loss: 0.4189 - val_accuracy: 0.8970\n",
            "Epoch 9/10\n",
            "93/93 [==============================] - ETA: 0s - loss: 0.0391 - accuracy: 0.9864\n",
            "Epoch 9: val_loss did not improve from 0.23774\n",
            "93/93 [==============================] - 5s 50ms/step - loss: 0.0391 - accuracy: 0.9864 - val_loss: 0.4983 - val_accuracy: 0.8978\n",
            "Epoch 10/10\n",
            "93/93 [==============================] - ETA: 0s - loss: 0.0361 - accuracy: 0.9860\n",
            "Epoch 10: val_loss did not improve from 0.23774\n",
            "93/93 [==============================] - 4s 40ms/step - loss: 0.0361 - accuracy: 0.9860 - val_loss: 0.5312 - val_accuracy: 0.8958\n"
          ]
        }
      ]
    },
    {
      "cell_type": "code",
      "source": [
        "# summarize history for loss\n",
        "plt.plot(history.history['loss'])\n",
        "plt.plot(history.history['val_loss'])\n",
        "plt.title('model loss')\n",
        "plt.ylabel('loss')\n",
        "plt.xlabel('epoch')\n",
        "plt.legend(['train', 'val'], loc='upper right')\n",
        "plt.show()"
      ],
      "metadata": {
        "colab": {
          "base_uri": "https://localhost:8080/",
          "height": 472
        },
        "id": "4eXGl2m8g2Sl",
        "outputId": "c7f12c91-f3b9-48bb-8108-02c4399a5e01"
      },
      "execution_count": null,
      "outputs": [
        {
          "output_type": "display_data",
          "data": {
            "text/plain": [
              "<Figure size 640x480 with 1 Axes>"
            ],
            "image/png": "[encoded data removed]"
          },
          "metadata": {}
        }
      ]
    },
    {
      "cell_type": "code",
      "source": [
        "# summarize history for accuracy\n",
        "plt.plot(history.history['accuracy'])\n",
        "plt.plot(history.history['val_accuracy'])\n",
        "plt.title('model accuracy')\n",
        "plt.ylabel('accuracy')\n",
        "plt.xlabel('epoch')\n",
        "\n",
        "plt.legend(['train', 'val'], loc='upper left')\n",
        "plt.show()"
      ],
      "metadata": {
        "colab": {
          "base_uri": "https://localhost:8080/",
          "height": 472
        },
        "id": "Ex-PEibdhSsL",
        "outputId": "80329b1c-300f-4773-ba5f-4586a85b679d"
      },
      "execution_count": null,
      "outputs": [
        {
          "output_type": "display_data",
          "data": {
            "text/plain": [
              "<Figure size 640x480 with 1 Axes>"
            ],
            "image/png": "[encoded data removed]"
          },
          "metadata": {}
        }
      ]
    },
    {
      "cell_type": "code",
      "source": [
        "input_text = ['You are so handsome', 'Come on beautiful', 'Sure you are an asshole', 'Shame on you dude', 'You are definitely an idiot']\n",
        "sequences = tokenizer.texts_to_sequences(input_text)\n",
        "input_text = pad_sequences(sequences, maxlen=110, padding='post')"
      ],
      "metadata": {
        "id": "8yOczO-IXS4U"
      },
      "execution_count": null,
      "outputs": []
    },
    {
      "cell_type": "code",
      "source": [
        "model.load_weights('best_model.h5')\n",
        "\n",
        "pred = model.predict(input_text)\n",
        "prediction = ['Toxic' if i > 0.5 else 'Not Toxic' for i in pred]\n",
        "print(prediction)\n"
      ],
      "metadata": {
        "colab": {
          "base_uri": "https://localhost:8080/"
        },
        "id": "k0Bl_NMCXfwN",
        "outputId": "a6acfbb3-87c1-4c4d-8aaf-cc5e69491ae1"
      },
      "execution_count": null,
      "outputs": [
        {
          "output_type": "stream",
          "name": "stdout",
          "text": [
            "1/1 [==============================] - 2s 2s/step\n",
            "['Not Toxic', 'Not Toxic', 'Not Toxic', 'Toxic', 'Toxic']\n"
          ]
        }
      ]
    },
    {
      "cell_type": "code",
      "source": [
        "from sklearn.metrics import classification_report, confusion_matrix\n",
        "\n",
        "model.load_weights('best_model.h5')\n",
        "\n",
        "y_pred = np.where(model.predict(x_test_tokenized)>0.5, 1, 0)\n",
        "\n",
        "class_labels = ['NON-TOXIC', 'TOXIC']\n",
        "\n",
        "report = classification_report(y_test, y_pred, labels=np.arange(len(class_labels)), target_names=class_labels)\n",
        "print('Classification Report')\n",
        "print(report)\n",
        "\n",
        "cm = confusion_matrix(y_test, y_pred)\n",
        "ax = sns.heatmap(cm, annot=True, cmap='Blues', fmt='d')\n",
        "ax.set_title('Confusion Matrix')\n",
        "ax.set_xlabel('Predicted Values')\n",
        "ax.set_ylabel('Actual Values')\n",
        "ax.xaxis.set_ticklabels(['NON-TOXIC', 'TOXIC'])\n",
        "ax.yaxis.set_ticklabels(['NON-TOXIC', 'TOXIC'])\n",
        "plt.show()"
      ],
      "metadata": {
        "colab": {
          "base_uri": "https://localhost:8080/",
          "height": 672
        },
        "id": "knXLhTfSPK1a",
        "outputId": "005393cb-1ee4-487a-9ae6-3d8df6d29c04"
      },
      "execution_count": null,
      "outputs": [
        {
          "output_type": "stream",
          "name": "stdout",
          "text": [
            "80/80 [==============================] - 1s 10ms/step\n",
            "Classification Report\n",
            "              precision    recall  f1-score   support\n",
            "\n",
            "   NON-TOXIC       0.93      0.95      0.94      1908\n",
            "       TOXIC       0.85      0.79      0.82       642\n",
            "\n",
            "    accuracy                           0.91      2550\n",
            "   macro avg       0.89      0.87      0.88      2550\n",
            "weighted avg       0.91      0.91      0.91      2550\n",
            "\n"
          ]
        },
        {
          "output_type": "display_data",
          "data": {
            "text/plain": [
              "<Figure size 640x480 with 2 Axes>"
            ],
            "image/png": "[encoded data removed]"
          },
          "metadata": {}
        }
      ]
    },
    {
      "cell_type": "markdown",
      "source": [
        "**GLOVE EMBEDDING**"
      ],
      "metadata": {
        "id": "ZRiO6z3wPPQa"
      }
    },
    {
      "cell_type": "code",
      "source": [
        "wget https://downloads.cs.stanford.edu/nlp/data/glove.6B.zip\n",
        "!unzip -q glove.6B.zip\n"
      ],
      "metadata": {
        "colab": {
          "base_uri": "https://localhost:8080/"
        },
        "id": "2XAvEze1Vx4N",
        "outputId": "3b9fb0a3-3517-40fd-e752-055240dffd83"
      },
      "execution_count": null,
      "outputs": [
        {
          "metadata": {
            "tags": null
          },
          "name": "stdout",
          "output_type": "stream",
          "text": [
            "--2024-02-13 17:31:33--  https://downloads.cs.stanford.edu/nlp/data/glove.6B.zip\n",
            "Resolving downloads.cs.stanford.edu (downloads.cs.stanford.edu)... 171.64.64.22\n",
            "Connecting to downloads.cs.stanford.edu (downloads.cs.stanford.edu)|171.64.64.22|:443... connected.\n",
            "HTTP request sent, awaiting response... 200 OK\n",
            "Length: 862182613 (822M) [application/zip]\n",
            "Saving to: ‘glove.6B.zip’\n",
            "\n",
            "glove.6B.zip        100%[===================>] 822.24M  5.01MB/s    in 2m 39s  \n",
            "\n",
            "2024-02-13 17:34:13 (5.17 MB/s) - ‘glove.6B.zip’ saved [862182613/862182613]\n",
            "\n"
          ]
        }
      ]
    },
    {
      "cell_type": "code",
      "source": [
        "glove = './glove.6B.100d.txt'\n",
        "embedding_index = dict()\n",
        "\n",
        "with open(glove, 'r', encoding='utf-8') as f:\n",
        "    for line in f.readlines():\n",
        "        values = line.split()\n",
        "        word = values[0]\n",
        "        vector_dimensions = np.asarray(values[1:], dtype='float32')\n",
        "        embedding_index[word] = vector_dimensions\n",
        "\n",
        "print(f'Found {len(embedding_index)} word vectors.')"
      ],
      "metadata": {
        "colab": {
          "base_uri": "https://localhost:8080/"
        },
        "id": "Tcg9tOfXPQ5f",
        "outputId": "bbf37acc-525a-4317-8ed1-e5cd07238ff5"
      },
      "execution_count": null,
      "outputs": [
        {
          "output_type": "stream",
          "name": "stdout",
          "text": [
            "Found 400000 word vectors.\n"
          ]
        }
      ]
    },
    {
      "cell_type": "code",
      "source": [
        "embedding_dim = 100\n",
        "word_index = tokenizer.word_index\n",
        "k = 0\n",
        "\n",
        "embedding_matrix = np.zeros((len(word_index) + 1, embedding_dim))\n",
        "for word, i in word_index.items():\n",
        "    embedding_vector = embedding_index.get(word)\n",
        "    if embedding_vector is not None:\n",
        "        # Words not found in embedding index will be all-zeros.\n",
        "        k += 1\n",
        "        embedding_matrix[i] = embedding_vector"
      ],
      "metadata": {
        "id": "9_O2LqliX6qv"
      },
      "execution_count": null,
      "outputs": []
    },
    {
      "cell_type": "code",
      "source": [
        "from tensorflow.keras.models import Sequential\n",
        "from tensorflow.keras.layers import Dense, Conv1D, Conv2D ,MaxPool1D, MaxPool2D , Flatten , Dropout , BatchNormalization, LSTM, Embedding, GlobalAveragePooling1D, Bidirectional\n",
        "from tensorflow.keras.callbacks import ModelCheckpoint, EarlyStopping\n",
        "from keras import regularizers\n",
        "\n",
        "batch = 128\n",
        "epochs = 10\n",
        "\n",
        "model = Sequential()\n",
        "model.add(Embedding(len(word_index)+1, embedding_dim, weights=[embedding_matrix], input_length=110, trainable=False))\n",
        "model.add(Bidirectional(LSTM(128, return_sequences=True, activation='tanh')))\n",
        "model.add(Dropout(0.2))\n",
        "model.add(Bidirectional(LSTM(64, activation='tanh')))\n",
        "model.add(Dropout(0.2))\n",
        "model.add(Dense(128, activation = 'relu'))\n",
        "model.add(BatchNormalization())\n",
        "model.add(Dropout(0.2))\n",
        "model.add(Dense(64, activation = 'relu'))\n",
        "model.add(BatchNormalization())\n",
        "model.add(Dropout(0.2))\n",
        "model.add(Dense(32, activation = 'relu'))\n",
        "model.add(BatchNormalization())\n",
        "model.add(Dropout(0.2))\n",
        "\n",
        "model.add(Dense(1, activation = 'sigmoid'))\n",
        "\n",
        "model.summary()"
      ],
      "metadata": {
        "colab": {
          "base_uri": "https://localhost:8080/"
        },
        "id": "r0IKitXCYHjw",
        "outputId": "3417986f-9b53-44fd-a5ec-6d2f3ec52aa9"
      },
      "execution_count": null,
      "outputs": [
        {
          "output_type": "stream",
          "name": "stdout",
          "text": [
            "Model: \"sequential_22\"\n",
            "_________________________________________________________________\n",
            " Layer (type)                Output Shape              Param #   \n",
            "=================================================================\n",
            " embedding_21 (Embedding)    (None, 110, 100)          1185500   \n",
            "                                                                 \n",
            " bidirectional_37 (Bidirect  (None, 110, 256)          234496    \n",
            " ional)                                                          \n",
            "                                                                 \n",
            " dropout_72 (Dropout)        (None, 110, 256)          0         \n",
            "                                                                 \n",
            " bidirectional_38 (Bidirect  (None, 128)               164352    \n",
            " ional)                                                          \n",
            "                                                                 \n",
            " dropout_73 (Dropout)        (None, 128)               0         \n",
            "                                                                 \n",
            " dense_90 (Dense)            (None, 128)               16512     \n",
            "                                                                 \n",
            " batch_normalization_13 (Ba  (None, 128)               512       \n",
            " tchNormalization)                                               \n",
            "                                                                 \n",
            " dropout_74 (Dropout)        (None, 128)               0         \n",
            "                                                                 \n",
            " dense_91 (Dense)            (None, 64)                8256      \n",
            "                                                                 \n",
            " batch_normalization_14 (Ba  (None, 64)                256       \n",
            " tchNormalization)                                               \n",
            "                                                                 \n",
            " dropout_75 (Dropout)        (None, 64)                0         \n",
            "                                                                 \n",
            " dense_92 (Dense)            (None, 32)                2080      \n",
            "                                                                 \n",
            " batch_normalization_15 (Ba  (None, 32)                128       \n",
            " tchNormalization)                                               \n",
            "                                                                 \n",
            " dropout_76 (Dropout)        (None, 32)                0         \n",
            "                                                                 \n",
            " dense_93 (Dense)            (None, 1)                 33        \n",
            "                                                                 \n",
            "=================================================================\n",
            "Total params: 1612125 (6.15 MB)\n",
            "Trainable params: 426177 (1.63 MB)\n",
            "Non-trainable params: 1185948 (4.52 MB)\n",
            "_________________________________________________________________\n"
          ]
        }
      ]
    },
    {
      "cell_type": "code",
      "source": [
        "save_model = ModelCheckpoint('best_model_glove.h5', save_best_only=True, monitor='val_loss', mode='min', verbose=2)\n",
        "model.compile(loss='binary_crossentropy', optimizer='adam' , metrics=['accuracy'])\n",
        "\n",
        "history = model.fit(x_train_tokenized, y_train, batch_size=batch, epochs=epochs, validation_data=(x_valid_tokenized, y_valid), shuffle = True, verbose=1,\n",
        "                    callbacks=[save_model])"
      ],
      "metadata": {
        "colab": {
          "base_uri": "https://localhost:8080/"
        },
        "id": "iSi9B7pZYKpM",
        "outputId": "470dbdec-b6ec-4cde-f854-60f4578d2a42"
      },
      "execution_count": null,
      "outputs": [
        {
          "output_type": "stream",
          "name": "stdout",
          "text": [
            "Epoch 1/10\n",
            "92/93 [============================>.] - ETA: 0s - loss: 0.5770 - accuracy: 0.7214\n",
            "Epoch 1: val_loss improved from inf to 0.51521, saving model to best_model_glove.h5\n",
            "93/93 [==============================] - 18s 78ms/step - loss: 0.5759 - accuracy: 0.7221 - val_loss: 0.5152 - val_accuracy: 0.7510\n",
            "Epoch 2/10\n"
          ]
        },
        {
          "output_type": "stream",
          "name": "stderr",
          "text": [
            "/usr/local/lib/python3.10/dist-packages/keras/src/engine/training.py:3103: UserWarning: You are saving your model as an HDF5 file via `model.save()`. This file format is considered legacy. We recommend using instead the native Keras format, e.g. `model.save('my_model.keras')`.\n",
            "  saving_api.save_model(\n"
          ]
        },
        {
          "output_type": "stream",
          "name": "stdout",
          "text": [
            "92/93 [============================>.] - ETA: 0s - loss: 0.3804 - accuracy: 0.8578\n",
            "Epoch 2: val_loss improved from 0.51521 to 0.40392, saving model to best_model_glove.h5\n",
            "93/93 [==============================] - 4s 48ms/step - loss: 0.3801 - accuracy: 0.8581 - val_loss: 0.4039 - val_accuracy: 0.8251\n",
            "Epoch 3/10\n",
            "92/93 [============================>.] - ETA: 0s - loss: 0.2917 - accuracy: 0.8846\n",
            "Epoch 3: val_loss improved from 0.40392 to 0.32742, saving model to best_model_glove.h5\n",
            "93/93 [==============================] - 3s 36ms/step - loss: 0.2912 - accuracy: 0.8847 - val_loss: 0.3274 - val_accuracy: 0.8582\n",
            "Epoch 4/10\n",
            "93/93 [==============================] - ETA: 0s - loss: 0.2486 - accuracy: 0.8989\n",
            "Epoch 4: val_loss improved from 0.32742 to 0.29396, saving model to best_model_glove.h5\n",
            "93/93 [==============================] - 3s 35ms/step - loss: 0.2486 - accuracy: 0.8989 - val_loss: 0.2940 - val_accuracy: 0.8732\n",
            "Epoch 5/10\n",
            "93/93 [==============================] - ETA: 0s - loss: 0.2223 - accuracy: 0.9117\n",
            "Epoch 5: val_loss improved from 0.29396 to 0.23407, saving model to best_model_glove.h5\n",
            "93/93 [==============================] - 3s 36ms/step - loss: 0.2223 - accuracy: 0.9117 - val_loss: 0.2341 - val_accuracy: 0.9143\n",
            "Epoch 6/10\n",
            "92/93 [============================>.] - ETA: 0s - loss: 0.2022 - accuracy: 0.9205\n",
            "Epoch 6: val_loss did not improve from 0.23407\n",
            "93/93 [==============================] - 4s 43ms/step - loss: 0.2024 - accuracy: 0.9204 - val_loss: 0.2429 - val_accuracy: 0.9074\n",
            "Epoch 7/10\n",
            "93/93 [==============================] - ETA: 0s - loss: 0.1948 - accuracy: 0.9238\n",
            "Epoch 7: val_loss did not improve from 0.23407\n",
            "93/93 [==============================] - 4s 45ms/step - loss: 0.1948 - accuracy: 0.9238 - val_loss: 0.2439 - val_accuracy: 0.9143\n",
            "Epoch 8/10\n",
            "92/93 [============================>.] - ETA: 0s - loss: 0.1779 - accuracy: 0.9303\n",
            "Epoch 8: val_loss did not improve from 0.23407\n",
            "93/93 [==============================] - 4s 45ms/step - loss: 0.1777 - accuracy: 0.9303 - val_loss: 0.2375 - val_accuracy: 0.9162\n",
            "Epoch 9/10\n",
            "92/93 [============================>.] - ETA: 0s - loss: 0.1631 - accuracy: 0.9345\n",
            "Epoch 9: val_loss improved from 0.23407 to 0.22651, saving model to best_model_glove.h5\n",
            "93/93 [==============================] - 4s 47ms/step - loss: 0.1631 - accuracy: 0.9346 - val_loss: 0.2265 - val_accuracy: 0.9197\n",
            "Epoch 10/10\n",
            "93/93 [==============================] - ETA: 0s - loss: 0.1583 - accuracy: 0.9363\n",
            "Epoch 10: val_loss did not improve from 0.22651\n",
            "93/93 [==============================] - 3s 35ms/step - loss: 0.1583 - accuracy: 0.9363 - val_loss: 0.2281 - val_accuracy: 0.9124\n"
          ]
        }
      ]
    },
    {
      "cell_type": "code",
      "source": [
        "# summarize history for loss\n",
        "plt.plot(history.history['loss'])\n",
        "plt.plot(history.history['val_loss'])\n",
        "plt.title('model loss')\n",
        "plt.ylabel('loss')\n",
        "plt.xlabel('epoch')\n",
        "plt.legend(['train', 'val'], loc='upper right')\n",
        "plt.show()"
      ],
      "metadata": {
        "colab": {
          "base_uri": "https://localhost:8080/",
          "height": 472
        },
        "id": "2h5EM7fDjtpZ",
        "outputId": "f25d0029-6718-43d5-b221-8da2cbf6ef22"
      },
      "execution_count": null,
      "outputs": [
        {
          "output_type": "display_data",
          "data": {
            "text/plain": [
              "<Figure size 640x480 with 1 Axes>"
            ],
            "image/png": "[encoded data removed]"
          },
          "metadata": {}
        }
      ]
    },
    {
      "cell_type": "code",
      "source": [
        "# summarize history for accuracy\n",
        "plt.plot(history.history['accuracy'])\n",
        "plt.plot(history.history['val_accuracy'])\n",
        "plt.title('model accuracy')\n",
        "plt.ylabel('accuracy')\n",
        "plt.xlabel('epoch')\n",
        "\n",
        "plt.legend(['train', 'val'], loc='upper left')\n",
        "plt.show()"
      ],
      "metadata": {
        "colab": {
          "base_uri": "https://localhost:8080/",
          "height": 472
        },
        "id": "BnJPSTjUjtxp",
        "outputId": "d648b46c-68bc-423a-b600-d9eeb360c140"
      },
      "execution_count": null,
      "outputs": [
        {
          "output_type": "display_data",
          "data": {
            "text/plain": [
              "<Figure size 640x480 with 1 Axes>"
            ],
            "image/png": "[encoded data removed]"
          },
          "metadata": {}
        }
      ]
    },
    {
      "cell_type": "code",
      "source": [
        "input_text = ['You are so handsome', 'Come on beautiful', 'Υou are an asshole for sure', 'Shame on you dude', 'You are definitely an idiot']\n",
        "sequences = tokenizer.texts_to_sequences(input_text)\n",
        "input_text = pad_sequences(sequences, maxlen=110, padding='post')"
      ],
      "metadata": {
        "id": "PkHaZzIcjt0Q"
      },
      "execution_count": null,
      "outputs": []
    },
    {
      "cell_type": "code",
      "source": [
        "model.load_weights('best_model_glove.h5')\n",
        "\n",
        "pred = model.predict(input_text)\n",
        "prediction = ['Toxic' if i > 0.5 else 'Not Toxic' for i in pred]\n",
        "print(prediction)"
      ],
      "metadata": {
        "colab": {
          "base_uri": "https://localhost:8080/"
        },
        "id": "9WyFtNF_jt2q",
        "outputId": "11b769b1-e6e7-484a-e643-d79f7a994033"
      },
      "execution_count": null,
      "outputs": [
        {
          "output_type": "stream",
          "name": "stdout",
          "text": [
            "1/1 [==============================] - 3s 3s/step\n",
            "['Not Toxic', 'Not Toxic', 'Not Toxic', 'Toxic', 'Toxic']\n"
          ]
        }
      ]
    },
    {
      "cell_type": "code",
      "source": [
        "model.load_weights('best_model_glove.h5')\n",
        "\n",
        "y_pred = np.where(model.predict(x_test_tokenized)>0.5, 1, 0)\n",
        "\n",
        "class_labels = ['NON-TOXIC', 'TOXIC']\n",
        "\n",
        "report = classification_report(y_test, y_pred, labels=np.arange(len(class_labels)), target_names=class_labels)\n",
        "print('Classification Report')\n",
        "print(report)\n",
        "\n",
        "cm = confusion_matrix(y_test, y_pred)\n",
        "ax = sns.heatmap(cm, annot=True, cmap='Blues', fmt='d')\n",
        "ax.set_title('Confusion Matrix')\n",
        "ax.set_xlabel('Predicted Values')\n",
        "ax.set_ylabel('Actual Values')\n",
        "ax.xaxis.set_ticklabels(['NON-TOXIC', 'TOXIC'])\n",
        "ax.yaxis.set_ticklabels(['NON-TOXIC', 'TOXIC'])\n",
        "plt.show()"
      ],
      "metadata": {
        "colab": {
          "base_uri": "https://localhost:8080/",
          "height": 672
        },
        "id": "IYxFV3JlkcH5",
        "outputId": "744f15cd-4c5b-4a21-c74b-fd4604d8370b"
      },
      "execution_count": null,
      "outputs": [
        {
          "output_type": "stream",
          "name": "stdout",
          "text": [
            "80/80 [==============================] - 1s 14ms/step\n",
            "Classification Report\n",
            "              precision    recall  f1-score   support\n",
            "\n",
            "   NON-TOXIC       0.92      0.98      0.95      1908\n",
            "       TOXIC       0.93      0.73      0.82       642\n",
            "\n",
            "    accuracy                           0.92      2550\n",
            "   macro avg       0.92      0.86      0.88      2550\n",
            "weighted avg       0.92      0.92      0.92      2550\n",
            "\n"
          ]
        },
        {
          "output_type": "display_data",
          "data": {
            "text/plain": [
              "<Figure size 640x480 with 2 Axes>"
            ],
            "image/png": "[encoded data removed]"
          },
          "metadata": {}
        }
      ]
    }
  ]
}